{
 "cells": [
  {
   "cell_type": "code",
   "execution_count": 1,
   "metadata": {},
   "outputs": [],
   "source": [
    "import requests "
   ]
  },
  {
   "cell_type": "code",
   "execution_count": 2,
   "metadata": {},
   "outputs": [
    {
     "name": "stdout",
     "output_type": "stream",
     "text": [
      "('СДР (специальные права заимствования)', 107.7501)\n"
     ]
    }
   ],
   "source": [
    "# задание 1\n",
    "exchange_rates = {}\n",
    "def max_ex_rates():\n",
    "    valute = requests.get('https://www.cbr-xml-daily.ru/daily_json.js')\n",
    "    valute_1 = valute.json()['Valute']\n",
    "    for elements  in valute_1:\n",
    "        exchange_rates[valute_1[elements]['Name']] =  valute_1[elements]['Value']\n",
    "        maximal_rates = sorted(exchange_rates.items(), key = lambda item: item[1], reverse = True)\n",
    "        result = maximal_rates[0]\n",
    "    print(result)\n",
    "max_ex_rates()\n",
    "            "
   ]
  },
  {
   "cell_type": "code",
   "execution_count": 3,
   "metadata": {},
   "outputs": [
    {
     "name": "stdout",
     "output_type": "stream",
     "text": [
      "СДР (специальные права заимствования)\n"
     ]
    }
   ],
   "source": [
    "# если нужно только название валюты\n",
    "exchange_rates = {}\n",
    "def max_ex_rates():\n",
    "    valute = requests.get('https://www.cbr-xml-daily.ru/daily_json.js')\n",
    "    valute_1 = valute.json()['Valute']\n",
    "    for elements  in valute_1:\n",
    "        exchange_rates[valute_1[elements]['Name']] =  valute_1[elements]['Value']\n",
    "        maximal_rates = sorted(exchange_rates.items(), key = lambda item: item[1], reverse = True)\n",
    "        result = maximal_rates[0][0]\n",
    "    print(result)\n",
    "max_ex_rates()\n"
   ]
  },
  {
   "cell_type": "code",
   "execution_count": 4,
   "metadata": {},
   "outputs": [],
   "source": [
    "# задание 2\n",
    "class Rate:\n",
    "    def __init__(self, format_='value', diff = True): \n",
    "        self.format = format_    \n",
    "        self.diff = diff \n",
    "    def exchange_rates(self):\n",
    "        self.r = requests.get('https://www.cbr-xml-daily.ru/daily_json.js')\n",
    "        return self.r.json()['Valute']\n",
    "        \n",
    "    def make_format(self, currency):\n",
    "        response = self.exchange_rates()\n",
    "        \n",
    "        if currency in response:\n",
    "            if self.format == 'full' :\n",
    "                return response[currency]\n",
    "            \n",
    "           \n",
    "            if self.diff:\n",
    "                if self.format == 'value':\n",
    "                    return response[currency]['Value'] - response[currency]['Previous']\n",
    "        \n",
    "        return 'Error'\n",
    "    def eur(self):\n",
    "        return self.make_format('EUR')\n",
    "    \n",
    "    def usd(self):\n",
    "        return self.make_format('USD')\n",
    " "
   ]
  },
  {
   "cell_type": "code",
   "execution_count": 5,
   "metadata": {},
   "outputs": [],
   "source": [
    "r = Rate()"
   ]
  },
  {
   "cell_type": "code",
   "execution_count": 6,
   "metadata": {},
   "outputs": [
    {
     "data": {
      "text/plain": [
       "-1.5746999999999929"
      ]
     },
     "execution_count": 6,
     "metadata": {},
     "output_type": "execute_result"
    }
   ],
   "source": [
    "r.eur()"
   ]
  },
  {
   "cell_type": "code",
   "execution_count": 17,
   "metadata": {},
   "outputs": [],
   "source": [
    "# задание 3\n",
    "class Employee:\n",
    "    def __init__(self, name, seniority):\n",
    "        self.name = name\n",
    "        self.seniority = seniority\n",
    "        \n",
    "        self.grade = 1\n",
    "    \n",
    "    def grade_up(self):\n",
    "        \n",
    "        self.grade += 1\n",
    "    \n",
    "    def publish_grade(self):\n",
    "        print(self.name, self.grade)\n",
    "    \n",
    "    def check_if_it_is_time_for_upgrade(self):\n",
    "        pass\n"
   ]
  },
  {
   "cell_type": "code",
   "execution_count": 18,
   "metadata": {},
   "outputs": [],
   "source": [
    "class Designer(Employee):\n",
    "    def __init__(self, name, seniority):\n",
    "        super().__init__(name, seniority)\n",
    "    \n",
    "    def awards(self, awards_count, awards_points):\n",
    "        self.awards = awards_count * awards_points\n",
    "        return self.awards\n",
    "       \n",
    "    def check_if_it_is_time_for_upgrade(self):\n",
    "        \n",
    "        self.seniority += 1\n",
    "        \n",
    "        if self.seniority % 7 == 0:\n",
    "            self.grade_up()\n",
    "        \n",
    "        return self.publish_grade()\n"
   ]
  },
  {
   "cell_type": "code",
   "execution_count": 19,
   "metadata": {},
   "outputs": [],
   "source": [
    "Pet = Designer('Peter', 0)"
   ]
  },
  {
   "cell_type": "code",
   "execution_count": 20,
   "metadata": {},
   "outputs": [
    {
     "data": {
      "text/plain": [
       "4"
      ]
     },
     "execution_count": 20,
     "metadata": {},
     "output_type": "execute_result"
    }
   ],
   "source": [
    "Pet.awards(2, 2)"
   ]
  },
  {
   "cell_type": "code",
   "execution_count": 21,
   "metadata": {},
   "outputs": [],
   "source": [
    "Pet.seniority = 4"
   ]
  },
  {
   "cell_type": "code",
   "execution_count": 22,
   "metadata": {},
   "outputs": [
    {
     "name": "stdout",
     "output_type": "stream",
     "text": [
      "Peter 1\n",
      "Peter 1\n",
      "Peter 2\n",
      "Peter 2\n",
      "Peter 2\n",
      "Peter 2\n",
      "Peter 2\n",
      "Peter 2\n",
      "Peter 2\n",
      "Peter 3\n",
      "Peter 3\n",
      "Peter 3\n",
      "Peter 3\n",
      "Peter 3\n",
      "Peter 3\n",
      "Peter 3\n",
      "Peter 4\n",
      "Peter 4\n",
      "Peter 4\n",
      "Peter 4\n"
     ]
    }
   ],
   "source": [
    "for i in range(20):\n",
    "    Pet.check_if_it_is_time_for_upgrade()"
   ]
  },
  {
   "cell_type": "code",
   "execution_count": null,
   "metadata": {},
   "outputs": [],
   "source": []
  },
  {
   "cell_type": "code",
   "execution_count": null,
   "metadata": {},
   "outputs": [],
   "source": []
  }
 ],
 "metadata": {
  "kernelspec": {
   "display_name": "Python 3",
   "language": "python",
   "name": "python3"
  },
  "language_info": {
   "codemirror_mode": {
    "name": "ipython",
    "version": 3
   },
   "file_extension": ".py",
   "mimetype": "text/x-python",
   "name": "python",
   "nbconvert_exporter": "python",
   "pygments_lexer": "ipython3",
   "version": "3.8.5"
  }
 },
 "nbformat": 4,
 "nbformat_minor": 4
}
