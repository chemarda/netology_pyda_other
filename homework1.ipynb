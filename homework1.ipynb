{
 "cells": [
  {
   "cell_type": "code",
   "execution_count": 41,
   "metadata": {},
   "outputs": [
    {
     "name": "stdout",
     "output_type": "stream",
     "text": [
      "Фраза 2 длиннее фразы 1\n"
     ]
    }
   ],
   "source": [
    "#задание 1\n",
    "phrase_1 = '640Кб должно хватить для любых задач. Билл Гейтс (по легенде)'\n",
    "phrase_2 = 'Насколько проще было бы писать программы, если бы не заказчики'\n",
    "\n",
    "if len(phrase_1) > len(phrase_2):\n",
    "    print('Фраза 1 длиннее фразы 2') \n",
    "elif len(phrase_1) < len(phrase_2):\n",
    "    print('Фраза 2 длиннее фразы 1') \n",
    "elif  len(phrase_1) == len(phrase_2):\n",
    "    print('Фразы равной длины') "
   ]
  },
  {
   "cell_type": "code",
   "execution_count": 41,
   "metadata": {},
   "outputs": [
    {
     "name": "stdout",
     "output_type": "stream",
     "text": [
      "обычный  год\n"
     ]
    }
   ],
   "source": [
    "#  задание 2\n",
    "year = 1945\n",
    "\n",
    "if   year % 4 > 0 or year % 100 == 0 and not year % 400 == 0:\n",
    "    print ('обычный  год')\n",
    "else:\n",
    "    print('високосный год')\n"
   ]
  },
  {
   "cell_type": "code",
   "execution_count": 44,
   "metadata": {},
   "outputs": [
    {
     "name": "stdout",
     "output_type": "stream",
     "text": [
      "Введите день: 17\n",
      "Введите месяц: март\n",
      "Ваш знак зодиака: Рыбы\n"
     ]
    }
   ],
   "source": [
    "# задание 3\n",
    "day = int(input('Введите день: '))\n",
    "month = input('Введите месяц: ')    \n",
    "\n",
    "if 21 <= day <= 31 and month == 'март' or 1 <= day <= 20 and month == 'апрель':\n",
    "    print('Ваш знак зодиака: Овен')\n",
    "elif 21 <= day <= 30 and month == 'апрель' or 1 <= day <= 21 and month == 'май':\n",
    "    print('Ваш знак зодиака: Телец')\n",
    "elif 22 <= day <= 31 and month == 'май' or 1 <= day <= 21 and month == 'июнь':\n",
    "    print('Ваш знак зодиака: Близнецы')\n",
    "elif 22 <= day <= 30 and month == 'июнь' or 1 <= day <= 23 and month == 'июль':\n",
    "    print('Ваш знак зодиака: Рак')\n",
    "elif 24 <= day <= 31 and month == 'июль' or 1 <= day <= 23 and month == 'август':\n",
    "    print('Ваш знак зодиака: Лев')\n",
    "elif 24 <= day <= 31 and month == 'август' or 1 <= day <= 23 and month == 'сентябрь':\n",
    "    print('Ваш знак зодиака: Дева')\n",
    "elif 24 <= day <= 30 and month == 'сентябрь' or 1 <= day <= 23 and month == 'октябрь':\n",
    "    print('Ваш знак зодиака: Весы')\n",
    "elif 24 <= day <= 31 and month == 'октябрь' or 1 <= day <= 22 and month == 'ноябрь':\n",
    "    print('Ваш знак зодиака: Скорпион')\n",
    "elif 23 <= day <= 30 and month == 'ноябрь' or 1 <= day <= 21 and month == 'декабрь':\n",
    "    print('Ваш знак зодиака: Стрелец')\n",
    "elif 22 <= day <= 31 and month == 'декабрь' or 1 <= day <= 20 and month == 'январь':\n",
    "    print('Ваш знак зодиака: Козерог')\n",
    "elif 21 <= day <= 31 and month == 'январь' or 1 <= day <= 19 and month == 'февраль':\n",
    "    print('Ваш знак зодиака: Водолей')\n",
    "elif 20 <= day <= 28 and month == 'февраль' or 1 <= day <= 20 and month == 'март':\n",
    "    print('Ваш знак зодиака: Рыбы')\n"
   ]
  },
  {
   "cell_type": "code",
   "execution_count": 3,
   "metadata": {},
   "outputs": [
    {
     "name": "stdout",
     "output_type": "stream",
     "text": [
      "коробка для лыж\n"
     ]
    }
   ],
   "source": [
    "# задание 4\n",
    "width = 45\n",
    "length = 205\n",
    "height = 45\n",
    "if length > 200:\n",
    "    print('коробка для лыж')\n",
    "elif width < 15 and length <15 and height < 15:\n",
    "    print('коробка 1')\n",
    "elif 15 < width < 50 or 15 < length < 50 or 15 < height < 15:\n",
    "    print('коробка 2') \n",
    "else:\n",
    "    print('коробка 3')\n"
   ]
  }
 ],
 "metadata": {
  "kernelspec": {
   "display_name": "Python 3",
   "language": "python",
   "name": "python3"
  },
  "language_info": {
   "codemirror_mode": {
    "name": "ipython",
    "version": 3
   },
   "file_extension": ".py",
   "mimetype": "text/x-python",
   "name": "python",
   "nbconvert_exporter": "python",
   "pygments_lexer": "ipython3",
   "version": "3.8.5"
  }
 },
 "nbformat": 4,
 "nbformat_minor": 4
}
