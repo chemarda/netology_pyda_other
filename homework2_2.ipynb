{
 "cells": [
  {
   "cell_type": "code",
   "execution_count": null,
   "metadata": {},
   "outputs": [],
   "source": [
    "# задание 1\n",
    "word = input('Введите слово: ')\n",
    "word_len = len(word)\n",
    "x = word_len // 2\n",
    "if word_len % 2 == 0:\n",
    "   print(word[x-1], word[x])\n",
    "else:\n",
    "   print(word[x])\n",
    "  "
   ]
  },
  {
   "cell_type": "code",
   "execution_count": null,
   "metadata": {},
   "outputs": [],
   "source": [
    "# задание 2\n",
    "a = int(input('Введите число: '))\n",
    "sum = 0\n",
    "while a != 0:\n",
    "    sum += a\n",
    "    a = int(input('Введите число: '))\n",
    "    if a == 0:\n",
    "        print(sum)"
   ]
  },
  {
   "cell_type": "code",
   "execution_count": null,
   "metadata": {},
   "outputs": [],
   "source": [
    "# задание 3\n",
    "boys = ['Peter',  'Alex',  'John',  'Arthur',   'Richard', 'Michael']\n",
    "girls = ['Kate', 'Lisa', 'Kira', 'Emmma', 'Trisha']\n",
    "boys.sort()\n",
    "girls.sort()\n",
    "if len(boys) == len(girls):\n",
    "    print('Идеальные пары:')\n",
    "    for bg in list(zip(boys,girls)):\n",
    "        print(bg)\n",
    "else:\n",
    "    print('Внимание, кто-то может остаться пары')"
   ]
  },
  {
   "cell_type": "code",
   "execution_count": null,
   "metadata": {},
   "outputs": [],
   "source": [
    "# задание 4\n",
    "countries_temperature = [\n",
    "['Thailand', [75.2, 77, 78.8, 73.4, 68, 75.2, 77]],\n",
    "['Germany', [57.2, 55.4, 59, 59, 53.6]],\n",
    "['Russia', [35.6, 37.4, 39.2, 41, 42.8, 39.2, 35.6]],\n",
    "['Poland', [50, 50, 53.6, 57.2, 55.4, 55.4]]\n",
    "]\n",
    "print('Средняя температура в странах')\n",
    "for relation in countries_temperature:\n",
    "    x = (sum(relation[1])/len(relation[1]) - 32)/1.8\n",
    "    print(f'{relation[0]} {x}C')"
   ]
  }
 ],
 "metadata": {
  "kernelspec": {
   "display_name": "Python 3",
   "language": "python",
   "name": "python3"
  },
  "language_info": {
   "codemirror_mode": {
    "name": "ipython",
    "version": 3
   },
   "file_extension": ".py",
   "mimetype": "text/x-python",
   "name": "python",
   "nbconvert_exporter": "python",
   "pygments_lexer": "ipython3",
   "version": "3.8.5"
  }
 },
 "nbformat": 4,
 "nbformat_minor": 4
}
