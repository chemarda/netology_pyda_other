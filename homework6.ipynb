{
 "cells": [
  {
   "cell_type": "code",
   "execution_count": 4,
   "metadata": {},
   "outputs": [],
   "source": [
    "from  datetime import datetime"
   ]
  },
  {
   "cell_type": "code",
   "execution_count": 55,
   "metadata": {},
   "outputs": [
    {
     "data": {
      "text/plain": [
       "datetime.datetime(1977, 8, 18, 0, 0)"
      ]
     },
     "execution_count": 55,
     "metadata": {},
     "output_type": "execute_result"
    }
   ],
   "source": [
    "# задание 1\n",
    "\n",
    "m_times = 'Wednesday, October 2, 2002'\n",
    "guard = 'Friday, 11.10.13'\n",
    "d_news = 'Thursday, 18 August 1977'\n",
    "\n",
    "The_Moscow_Times = datetime.strptime(m_times, '%A, %B %d, %Y')\n",
    "The_Moscow_Times\n"
   ]
  },
  {
   "cell_type": "code",
   "execution_count": 24,
   "metadata": {},
   "outputs": [
    {
     "data": {
      "text/plain": [
       "datetime.datetime(2013, 10, 11, 0, 0)"
      ]
     },
     "execution_count": 24,
     "metadata": {},
     "output_type": "execute_result"
    }
   ],
   "source": [
    "The_Guardian = datetime.strptime(guard, '%A, %d.%m.%y')\n",
    "The_Guardian "
   ]
  },
  {
   "cell_type": "code",
   "execution_count": 25,
   "metadata": {},
   "outputs": [
    {
     "data": {
      "text/plain": [
       "datetime.datetime(1977, 8, 18, 0, 0)"
      ]
     },
     "execution_count": 25,
     "metadata": {},
     "output_type": "execute_result"
    }
   ],
   "source": [
    "Daily_News = datetime.strptime(d_news, '%A, %d %B %Y')\n",
    "Daily_News"
   ]
  },
  {
   "cell_type": "code",
   "execution_count": 36,
   "metadata": {},
   "outputs": [
    {
     "name": "stdout",
     "output_type": "stream",
     "text": [
      "2018-04-02 00:00:00 True\n",
      "2018-02-29 False\n",
      "2018-19-02 False\n"
     ]
    }
   ],
   "source": [
    "# задание 2\n",
    "stream = ['2018-04-02', '2018-02-29', '2018-19-02']\n",
    "def stream_correct(stream):\n",
    "    for date_ in stream:\n",
    "        try:\n",
    "            date_ = datetime.strptime(date_, '%Y-%m-%d')\n",
    "            print(date_, True)\n",
    "        except:\n",
    "            print(date_, False)\n",
    "stream_correct(stream)  \n",
    "    "
   ]
  },
  {
   "cell_type": "code",
   "execution_count": 56,
   "metadata": {},
   "outputs": [
    {
     "name": "stdout",
     "output_type": "stream",
     "text": [
      "[('2018-04-02', True), ('2018-02-29', False), ('2018-19-02', False)]\n"
     ]
    }
   ],
   "source": [
    "# задание 2 - возвращает список кортежей\n",
    "\n",
    "stream = ['2018-04-02', '2018-02-29', '2018-19-02']\n",
    "def stream_correct(stream):\n",
    "    stream_check = []\n",
    "    for date_ in stream:\n",
    "        try:\n",
    "            date_ = datetime.strptime(date_, '%Y-%m-%d')\n",
    "            stream_check.append(True) \n",
    "        except:\n",
    "            stream_check.append(False)\n",
    "    stream_final_check = list(zip(stream, stream_check))\n",
    "    print(stream_final_check)    \n",
    "stream_correct(stream)  \n",
    "  "
   ]
  },
  {
   "cell_type": "code",
   "execution_count": 3,
   "metadata": {},
   "outputs": [],
   "source": [
    "from datetime import timedelta"
   ]
  },
  {
   "cell_type": "code",
   "execution_count": 12,
   "metadata": {},
   "outputs": [
    {
     "name": "stdout",
     "output_type": "stream",
     "text": [
      "Список дат\n",
      "['2021-02-10', '2021-02-11', '2021-02-12', '2021-02-13', '2021-02-14', '2021-02-15', '2021-02-16', '2021-02-17', '2021-02-18', '2021-02-19', '2021-02-20']\n",
      "Неверный формат даты: 10-02-2021\n",
      "[]\n",
      "Неверно: 2021-02-20 > 2021-02-10\n",
      "[]\n"
     ]
    }
   ],
   "source": [
    "# задание 3\n",
    "\n",
    "# верные даты \n",
    "start_date = '2021-02-10'\n",
    "end_date = '2021-02-20'\n",
    " \n",
    "# ошибка в формате дат\n",
    "start_date_false1 = '10-02-2021'\n",
    "end_date_false1 = '20-02-2021'\n",
    " \n",
    "# ошибка в порядке дат\n",
    "start_date_false2 = '2021-02-20'\n",
    "end_date_false2 = '2021-02-10'\n",
    " \n",
    "def date_range(start_date, end_date):\n",
    "    date_list = []             \n",
    "    try:                      \n",
    "        if start_date <= end_date:    \n",
    "            s_date = datetime.strptime(start_date, '%Y-%m-%d')\n",
    "            e_date = datetime.strptime(end_date, '%Y-%m-%d')   \n",
    "            while s_date <= e_date:                    \n",
    "                date_list.append(s_date.strftime('%Y-%m-%d'))\n",
    "                s_date += timedelta(days = 1)  \n",
    "            print('Список дат')\n",
    "            print(date_list)\n",
    "        else:                    \n",
    "            print('Неверно:', start_date, '>', end_date)\n",
    "            print(date_list)\n",
    "    except:                    \n",
    "        print('Неверный формат даты:', start_date_false1)\n",
    "        print(date_list)\n",
    "date_range(start_date, end_date)\n",
    "date_range(start_date_false1, end_date_false1)\n",
    "date_range(start_date_false2, end_date_false2)"
   ]
  }
 ],
 "metadata": {
  "kernelspec": {
   "display_name": "Python 3",
   "language": "python",
   "name": "python3"
  },
  "language_info": {
   "codemirror_mode": {
    "name": "ipython",
    "version": 3
   },
   "file_extension": ".py",
   "mimetype": "text/x-python",
   "name": "python",
   "nbconvert_exporter": "python",
   "pygments_lexer": "ipython3",
   "version": "3.8.5"
  }
 },
 "nbformat": 4,
 "nbformat_minor": 4
}
