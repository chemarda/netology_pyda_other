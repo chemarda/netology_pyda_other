{
 "cells": [
  {
   "cell_type": "code",
   "execution_count": 3,
   "metadata": {},
   "outputs": [
    {
     "name": "stdout",
     "output_type": "stream",
     "text": [
      "Введите номер документа: 11-2\n",
      "Владелец документа: Геннадий Покемонов\n"
     ]
    }
   ],
   "source": [
    "# 1 # команда p # владелец документа\n",
    "documents = [\n",
    "{'type': 'passport', 'number': '2207 876234', 'name': 'Василий Гупкин'},\n",
    "{'type': 'invoice', 'number': '11-2', 'name': 'Геннадий Покемонов'},  \n",
    "{'type': 'insurance', 'number': '10006', 'name': 'Аристарх Павлов'},\n",
    "]\n",
    " \n",
    "directories = {\n",
    "'1': ['2207 876234', '11-2'],\n",
    "'2': ['10006'],\n",
    "'3': []\n",
    "}\n",
    "\n",
    "def owner(docum):\n",
    "    user_input = input('Введите номер документа: ')\n",
    "    doc_yes = False\n",
    "    for doc in docum:\n",
    "        if user_input == doc['number']:\n",
    "            doc_yes = True   \n",
    "            break\n",
    "    if doc_yes:\n",
    "        x = doc['name']\n",
    "        print(f'Владелец документа: {x}')\n",
    "    else:\n",
    "        print('Документ не найден в базе') \n",
    "\n",
    "\n",
    "owner(documents)\n"
   ]
  },
  {
   "cell_type": "code",
   "execution_count": 4,
   "metadata": {},
   "outputs": [
    {
     "name": "stdout",
     "output_type": "stream",
     "text": [
      "Введите номер документа: 10006\n",
      "Документ хранится на полке: 2\n"
     ]
    }
   ],
   "source": [
    "# 2 # команда s #  на какой полке хранится документ   \n",
    "documents = [\n",
    "{'type': 'passport', 'number': '2207 876234', 'name': 'Василий Гупкин'},\n",
    "{'type': 'invoice', 'number': '11-2', 'name': 'Геннадий Покемонов'},  \n",
    "{'type': 'insurance', 'number': '10006', 'name': 'Аристарх Павлов'},\n",
    "]\n",
    "    \n",
    "    \n",
    "directories = {\n",
    "'1': ['2207 876234', '11-2'],\n",
    "'2': ['10006'],\n",
    "'3': []\n",
    "}\n",
    "\n",
    "\n",
    "def shelf(direc):\n",
    "    user_input = input('Введите номер документа: ')\n",
    "    for key, val in direc.items():\n",
    "        if user_input in val:\n",
    "            print(f'Документ хранится на полке: {key}')\n",
    "        \n",
    "shelf(directories)\n"
   ]
  },
  {
   "cell_type": "code",
   "execution_count": 5,
   "metadata": {},
   "outputs": [
    {
     "name": "stdout",
     "output_type": "stream",
     "text": [
      "№: 2207 876234, тип: passport, владелец: Василий Гупкин, полка хранения: 1\n",
      "№: 11-2, тип: invoice, владелец: Геннадий Покемонов, полка хранения: 1\n",
      "№: 10006, тип: insurance, владелец: Аристарх Павлов, полка хранения: 2\n"
     ]
    }
   ],
   "source": [
    "# 3 # команда l # общая информация по всем документам\n",
    "documents = [\n",
    "{'type': 'passport', 'number': '2207 876234', 'name': 'Василий Гупкин'},\n",
    "{'type': 'invoice', 'number': '11-2', 'name': 'Геннадий Покемонов'},  \n",
    "{'type': 'insurance', 'number': '10006', 'name': 'Аристарх Павлов'},\n",
    "]\n",
    "    \n",
    "    \n",
    "directories = {\n",
    "'1': ['2207 876234', '11-2'],\n",
    "'2': ['10006'],\n",
    "'3': []\n",
    "}\n",
    "\n",
    "\n",
    "\n",
    "def all_info(docum):\n",
    "    a, b, c =  docum \n",
    "    a['shelf'] = 1\n",
    "    b['shelf'] = 1\n",
    "    c['shelf'] = 2\n",
    "    for item in docum:\n",
    "        n = item['number']\n",
    "        t = item['type']\n",
    "        ow = item['name']\n",
    "        sh = item['shelf']\n",
    "        print(f'№: {n}, тип: {t}, владелец: {ow}, полка хранения: {sh}')\n",
    "    \n",
    "all_info(documents)  "
   ]
  },
  {
   "cell_type": "code",
   "execution_count": 6,
   "metadata": {},
   "outputs": [
    {
     "name": "stdout",
     "output_type": "stream",
     "text": [
      "Введите номер полки: 1\n",
      "Такая полка уже существует.Текущий перечень полок: 1, 2, 3\n"
     ]
    }
   ],
   "source": [
    "# 4 # команда as # добавление новой полки\n",
    "documents = [\n",
    "{'type': 'passport', 'number': '2207 876234', 'name': 'Василий Гупкин'},\n",
    "{'type': 'invoice', 'number': '11-2', 'name': 'Геннадий Покемонов'},  \n",
    "{'type': 'insurance', 'number': '10006', 'name': 'Аристарх Павлов'},\n",
    "]\n",
    "\n",
    "directories = {\n",
    "'1': ['2207 876234', '11-2'],\n",
    "'2': ['10006'],\n",
    "'3': []\n",
    "}\n",
    "def shelf_add(direc):\n",
    "    user_input = input('Введите номер полки: ')\n",
    "    if  user_input in direc:\n",
    "        shelf_no = list(direc.keys()) \n",
    "        x = ', '.join(shelf_no)\n",
    "        print(f'Такая полка уже существует.Текущий перечень полок: {x}')\n",
    "    elif user_input not in direc:\n",
    "        direc.setdefault(user_input, [])\n",
    "        shelf_no = list(direc.keys()) \n",
    "        x = ', '.join(shelf_no)\n",
    "        print(f'Полка добавлена. Текущий перечень полок: {x}')\n",
    "shelf_add(directories)"
   ]
  },
  {
   "cell_type": "code",
   "execution_count": 7,
   "metadata": {},
   "outputs": [
    {
     "name": "stdout",
     "output_type": "stream",
     "text": [
      "Введите номер полки: 5\n",
      "Такой полки не существует.Текущий перечень полок: 1, 2, 3\n"
     ]
    }
   ],
   "source": [
    "# 5 # команда ds #удаление полки\n",
    "documents = [\n",
    "{'type': 'passport', 'number': '2207 876234', 'name': 'Василий Гупкин'},\n",
    "{'type': 'invoice', 'number': '11-2', 'name': 'Геннадий Покемонов'},  \n",
    "{'type': 'insurance', 'number': '10006', 'name': 'Аристарх Павлов'},\n",
    "]\n",
    "\n",
    "directories = {\n",
    "'1': ['2207 876234', '11-2'],\n",
    "'2': ['10006'],\n",
    "'3': []\n",
    "}\n",
    "\n",
    "def shelf_del(direc):\n",
    "    user_input = input('Введите номер полки: ') \n",
    "    for key, value in direc.items():\n",
    "        if user_input in key and len(value) == 0:\n",
    "            k = key\n",
    "            my_dict = {key: value for key, value in direc.items() if not key == k}\n",
    "            shelf_no = list(my_dict.keys()) \n",
    "            x = ', '.join(shelf_no)\n",
    "            print(f'Полка удалена. Текущий перечень полок: {x}')\n",
    "        elif user_input in key and len(value) > 0:\n",
    "            shelf_no = list(direc.keys()) \n",
    "            x = ', '.join(shelf_no)\n",
    "            print(f'На полке есть документы, удалите их перед удалением полки. Текущий перечень полок: {x}')\n",
    "    if user_input not in direc.keys():\n",
    "        shelf_no = list(directories.keys()) \n",
    "        x = ', '.join(shelf_no)\n",
    "        print(f'Такой полки не существует.Текущий перечень полок: {x}')\n",
    "\n",
    "shelf_del(directories)"
   ]
  },
  {
   "cell_type": "code",
   "execution_count": 8,
   "metadata": {},
   "outputs": [
    {
     "name": "stdout",
     "output_type": "stream",
     "text": [
      "Введите команду: p\n",
      "Введите номер документа: 11-2\n",
      "Владелец документа: Геннадий Покемонов\n",
      "Введите команду: s\n",
      "Введите номер документа: 10006\n",
      "Документ хранится на полке: 2\n",
      "Введите команду: l\n",
      "№: 2207 876234, тип: passport, владелец: Василий Гупкин, полка хранения: 1\n",
      "№: 11-2, тип: invoice, владелец: Геннадий Покемонов, полка хранения: 1\n",
      "№: 10006, тип: insurance, владелец: Аристарх Павлов, полка хранения: 2\n",
      "Введите команду: as\n",
      "Введите номер полки: 10\n",
      "Полка добавлена. Текущий перечень полок: 1, 2, 3, 10\n",
      "Введите команду: ds\n",
      "Введите номер полки: 3\n",
      "Полка удалена. Текущий перечень полок: 1, 2, 10\n",
      "Введите команду: q\n"
     ]
    }
   ],
   "source": [
    "def main():\n",
    "    while True:\n",
    "        user_input = input('Введите команду: ')\n",
    "        if user_input == 'p':\n",
    "            owner(documents)\n",
    "        elif  user_input == 's':   \n",
    "            shelf(directories)    \n",
    "        elif  user_input == 'l':       \n",
    "            all_info(documents) \n",
    "        elif  user_input == 'as': \n",
    "            shelf_add(directories)\n",
    "        elif user_input == 'ds':\n",
    "            shelf_del(directories)\n",
    "        elif user_input == 'q':\n",
    "            break    \n",
    "                \n",
    "                \n",
    "main()                     \n",
    "  "
   ]
  },
  {
   "cell_type": "code",
   "execution_count": 9,
   "metadata": {},
   "outputs": [
    {
     "name": "stdout",
     "output_type": "stream",
     "text": [
      "Введите команду: p\n",
      "Введите номер документа: 2207 876234\n",
      "Владелец документа: Василий Гупкин\n",
      "Введите команду: s\n",
      "Введите номер документа: 2207 876234\n",
      "Документ хранится на полке: 1\n",
      "Введите команду: as\n",
      "Введите номер полки: 2\n",
      "Такая полка уже существует.Текущий перечень полок: 1, 2, 3, 10\n",
      "Введите команду: ds\n",
      "Введите номер полки: 10\n",
      "Полка удалена. Текущий перечень полок: 1, 2, 3\n",
      "Введите команду: q\n"
     ]
    }
   ],
   "source": [
    "def main():\n",
    "    while True:\n",
    "        user_input = input('Введите команду: ')\n",
    "        if user_input == 'p':\n",
    "            owner(documents)\n",
    "        elif  user_input == 's':   \n",
    "            shelf(directories)    \n",
    "        elif  user_input == 'l':       \n",
    "            all_info(documents) \n",
    "        elif  user_input == 'as': \n",
    "            shelf_add(directories)\n",
    "        elif user_input == 'ds':\n",
    "            shelf_del(directories)\n",
    "        elif user_input == 'q':\n",
    "            break    \n",
    "                \n",
    "                \n",
    "main()                     \n",
    "  "
   ]
  }
 ],
 "metadata": {
  "kernelspec": {
   "display_name": "Python 3",
   "language": "python",
   "name": "python3"
  },
  "language_info": {
   "codemirror_mode": {
    "name": "ipython",
    "version": 3
   },
   "file_extension": ".py",
   "mimetype": "text/x-python",
   "name": "python",
   "nbconvert_exporter": "python",
   "pygments_lexer": "ipython3",
   "version": "3.8.5"
  }
 },
 "nbformat": 4,
 "nbformat_minor": 4
}
