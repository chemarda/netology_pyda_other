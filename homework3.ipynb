{
 "cells": [
  {
   "cell_type": "code",
   "execution_count": 2,
   "metadata": {},
   "outputs": [
    {
     "name": "stdout",
     "output_type": "stream",
     "text": [
      "{98, 35, 15, 213, 54, 119}\n",
      "{98, 35, 15, 213, 54, 119}\n",
      "{98, 35, 15, 213, 54, 119}\n"
     ]
    }
   ],
   "source": [
    "# задание 1\n",
    "ids = {'user1': [213, 213, 213, 15, 213],\n",
    "'user2': [54, 54, 119, 119, 119],\n",
    "'user3': [213, 98, 98, 35]}\n",
    "\n",
    "for val in ids.values():\n",
    "    val = ids.values()\n",
    "    a, b, c = val\n",
    "    new_list = a + b + c\n",
    "    print(set(new_list))\n"
   ]
  },
  {
   "cell_type": "code",
   "execution_count": null,
   "metadata": {},
   "outputs": [],
   "source": [
    "# задание 2 (проще)\n",
    "queries = ['смотреть сериалы онлайн', \n",
    "'новости спорта',\n",
    "'афиша кино',\n",
    "'курс доллара',\n",
    "'сериалы этим летом',\n",
    "'курс по питону',\n",
    "'сериалы про спорт']\n",
    "my_dict = {queries[i]:len(queries[i].split(' ')) for i in range(0, len(queries))} \n",
    "val = list(my_dict.values())\n",
    "val_1 = val.count(2)\n",
    "val_2 = val.count(3)\n",
    "x = round((val_1 * 100)/len(val), 2)\n",
    "y = round((val_2 * 100)/len(val), 2)\n",
    "print(f'Поисковых запросов, содержащих 2 слов(а): {x}%')\n",
    "print(f'Поисковых запросов, содержащих 3 слов(а): {y}%')\n"
   ]
  },
  {
   "cell_type": "code",
   "execution_count": 3,
   "metadata": {},
   "outputs": [
    {
     "name": "stdout",
     "output_type": "stream",
     "text": [
      "Поисковых запросов, содержащих 2 слов(а): 42.86%\n",
      "Поисковых запросов, содержащих 3 слов(а): 57.14%\n"
     ]
    }
   ],
   "source": [
    "# задание 2 (короче)\n",
    "queries = ['смотреть сериалы онлайн', \n",
    "'новости спорта',\n",
    "'афиша кино',\n",
    "'курс доллара',\n",
    "'сериалы этим летом',\n",
    "'курс по питону',\n",
    "'сериалы про спорт']\n",
    "my_dict = {queries[i]:len(queries[i].split(' ')) for i in range(0, len(queries))} \n",
    "val = list(my_dict.values())\n",
    "x = round((val.count(2)* 100)/len(val), 2)\n",
    "y = round((val.count(3)* 100)/len(val), 2)\n",
    "print(f'Поисковых запросов, содержащих 2 слов(а): {x}%')\n",
    "print(f'Поисковых запросов, содержащих 3 слов(а): {y}%') "
   ]
  },
  {
   "cell_type": "code",
   "execution_count": 4,
   "metadata": {},
   "outputs": [
    {
     "name": "stdout",
     "output_type": "stream",
     "text": [
      "{'adwords': {'revenue': 35, 'cost': 34, 'ROI': 2.94}}\n",
      "{'facebook': {'revenue': 103, 'cost': 110, 'ROI': -6.36}}\n",
      "{'twitter': {'revenue': 11, 'cost': 24, 'ROI': -54.17}}\n",
      "{'vk': {'revenue': 103, 'cost': 98, 'ROI': 5.1}}\n",
      "{'yandex': {'revenue': 179, 'cost': 153, 'ROI': 16.99}}\n"
     ]
    }
   ],
   "source": [
    "# задание 3 не получается\n",
    "results = {\n",
    "'vk': {'revenue': 103, 'cost': 98},\n",
    "'yandex': {'revenue': 179, 'cost': 153},\n",
    "'facebook': {'revenue': 103, 'cost': 110},\n",
    "'adwords': {'revenue': 35, 'cost': 34},\n",
    "'twitter': {'revenue': 11, 'cost': 24}  \n",
    "}  \n",
    "\n",
    "my_dict = sorted(results.items())\n",
    "for  k, val in my_dict:\n",
    "    val['ROI'] = round((val['revenue'] / val['cost'] - 1) * 100, 2)\n",
    "    print({k:val}) \n",
    "   "
   ]
  },
  {
   "cell_type": "code",
   "execution_count": 5,
   "metadata": {},
   "outputs": [
    {
     "name": "stdout",
     "output_type": "stream",
     "text": [
      "Максимальный объем продаж на рекламном канале: vk\n"
     ]
    }
   ],
   "source": [
    "# задание 4\n",
    "stats = {'facebook': 55, 'yandex': 115, 'vk': 120, 'google': 99, 'email': 42, 'ok': 98,}\n",
    "my_stats = sorted(stats.items(), key = lambda item: item[1], reverse = True)\n",
    "x = my_stats[0][0]\n",
    "print(f'Максимальный объем продаж на рекламном канале: {x}')\n"
   ]
  }
 ],
 "metadata": {
  "kernelspec": {
   "display_name": "Python 3",
   "language": "python",
   "name": "python3"
  },
  "language_info": {
   "codemirror_mode": {
    "name": "ipython",
    "version": 3
   },
   "file_extension": ".py",
   "mimetype": "text/x-python",
   "name": "python",
   "nbconvert_exporter": "python",
   "pygments_lexer": "ipython3",
   "version": "3.8.5"
  }
 },
 "nbformat": 4,
 "nbformat_minor": 4
}
